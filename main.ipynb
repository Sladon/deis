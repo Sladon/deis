{
 "cells": [
  {
   "cell_type": "code",
   "execution_count": null,
   "metadata": {},
   "outputs": [],
   "source": [
    "from global_params import paths\n",
    "from os import listdir, path\n",
    "from data.data_handler import HandleCSV\n",
    "import pandas as pd\n",
    "import matplotlib.pyplot as plt\n",
    "import seaborn as sns"
   ]
  },
  {
   "cell_type": "code",
   "execution_count": null,
   "metadata": {},
   "outputs": [],
   "source": [
    "CSV_DIR = paths.PATHS[\"csvs\"]\n",
    "csvs = [f for f in listdir(CSV_DIR) if path.isfile(path.join(CSV_DIR, f)) and not f.startswith('.')]"
   ]
  },
  {
   "cell_type": "code",
   "execution_count": null,
   "metadata": {},
   "outputs": [],
   "source": [
    "print(csvs)"
   ]
  },
  {
   "cell_type": "code",
   "execution_count": null,
   "metadata": {},
   "outputs": [],
   "source": [
    "csvs_handlers = [HandleCSV(CSV_DIR.joinpath(r\"\".join(csv))) for csv in csvs]"
   ]
  },
  {
   "cell_type": "code",
   "execution_count": null,
   "metadata": {},
   "outputs": [],
   "source": [
    "dfs = []\n",
    "encoding: str = \"ISO-8859-1\"\n",
    "for csv_handler in csvs_handlers:\n",
    "    df = csv_handler.get_dataframe(encoding)\n",
    "    df['DateOfDeath'] = pd.to_datetime(df['DateOfDeath'], errors='coerce')\n",
    "    df['DateOfDeath'] = df['DateOfDeath'].dt.date\n",
    "    df['YearOfDeath'] = df['YearOfDeath'].astype(str)  # Convert to string to handle non-numeric characters\n",
    "    df['YearOfDeath'] = df['YearOfDeath'].str.extract('(\\d+)', expand=False)\n",
    "    df['YearOfDeath'] = pd.to_numeric(df['YearOfDeath'], errors='coerce')\n",
    "    dfs.append(df)"
   ]
  },
  {
   "cell_type": "code",
   "execution_count": null,
   "metadata": {},
   "outputs": [],
   "source": [
    "result_df = pd.concat([dfs[0], dfs[1]], ignore_index=True)"
   ]
  },
  {
   "cell_type": "code",
   "execution_count": null,
   "metadata": {},
   "outputs": [],
   "source": [
    "result_df['YearOfDeath'].unique()"
   ]
  },
  {
   "cell_type": "code",
   "execution_count": null,
   "metadata": {},
   "outputs": [],
   "source": [
    "ax = sns.countplot(x='YearOfDeath', data=result_df)\n",
    "for p in ax.patches:\n",
    "    ax.annotate(f'{int(p.get_height())}', (p.get_x() + p.get_width() / 2 + 0.05, p.get_height()/2),\n",
    "                ha='center', va='bottom', rotation=90, fontsize=9, color='white')\n",
    "ax.set_xticklabels(ax.get_xticklabels(), rotation=90)\n",
    "plt.title('Histogram of deaths by Year')\n",
    "plt.show()"
   ]
  },
  {
   "cell_type": "code",
   "execution_count": null,
   "metadata": {},
   "outputs": [],
   "source": [
    "bar_width = 1\n",
    "\n",
    "plt.figure(figsize=(33, 8))\n",
    "\n",
    "ax = sns.countplot(x='YearOfDeath', hue='GenderDescription', data=result_df, palette='Set1', width=bar_width)\n",
    "\n",
    "for p in ax.patches:\n",
    "    ax.annotate(f'{int(p.get_height())}', (p.get_x() + p.get_width() / 2 + 0.05, p.get_height()/2),\n",
    "                ha='center', va='bottom', rotation=90, fontsize=9, color='white')\n",
    "\n",
    "ax.set_xticklabels(ax.get_xticklabels(), rotation=90)\n",
    "\n",
    "plt.title('Histogram of deaths by Year and Gender')\n",
    "plt.show()"
   ]
  },
  {
   "cell_type": "code",
   "execution_count": null,
   "metadata": {},
   "outputs": [],
   "source": [
    "result_df"
   ]
  },
  {
   "cell_type": "code",
   "execution_count": null,
   "metadata": {},
   "outputs": [],
   "source": [
    "covid_df = result_df.copy()"
   ]
  },
  {
   "cell_type": "code",
   "execution_count": null,
   "metadata": {},
   "outputs": [],
   "source": [
    "covid_df['isCovid'] = covid_df['ICD10SubcategoryDescription1'].where(covid_df['ICD10SubcategoryDescription1'] == 'COVID-19 virus identificado', False)"
   ]
  },
  {
   "cell_type": "code",
   "execution_count": null,
   "metadata": {},
   "outputs": [],
   "source": [
    "bar_width = 1\n",
    "\n",
    "plt.figure(figsize=(33, 8))\n",
    "\n",
    "ax = sns.countplot(x='YearOfDeath', hue='isCovid', data=covid_df, palette='Set1', width=bar_width)\n",
    "\n",
    "for p in ax.patches:\n",
    "    ax.annotate(f'{int(p.get_height())}', (p.get_x() + p.get_width() / 2 + 0.05, p.get_height()/2),\n",
    "                ha='center', va='bottom', rotation=90, fontsize=9, color='white')\n",
    "\n",
    "ax.set_xticklabels(ax.get_xticklabels(), rotation=90)\n",
    "\n",
    "plt.title('Histogram of deaths by Year by covid')\n",
    "plt.show()"
   ]
  }
 ],
 "metadata": {
  "kernelspec": {
   "display_name": ".venv",
   "language": "python",
   "name": "python3"
  },
  "language_info": {
   "codemirror_mode": {
    "name": "ipython",
    "version": 3
   },
   "file_extension": ".py",
   "mimetype": "text/x-python",
   "name": "python",
   "nbconvert_exporter": "python",
   "pygments_lexer": "ipython3",
   "version": "3.11.5"
  }
 },
 "nbformat": 4,
 "nbformat_minor": 2
}
